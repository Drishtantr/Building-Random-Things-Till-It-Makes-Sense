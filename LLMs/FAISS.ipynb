{
 "cells": [
  {
   "cell_type": "code",
   "execution_count": 6,
   "id": "96180d2f",
   "metadata": {},
   "outputs": [],
   "source": [
    "from langchain.embeddings import SentenceTransformerEmbeddings\n",
    "from langchain.vectorstores import FAISS\n",
    "from langchain.docstore import InMemoryDocstore\n",
    "from langchain.docstore.document import Document\n",
    "from pprint import pprint\n",
    "import faiss"
   ]
  },
  {
   "cell_type": "code",
   "execution_count": 7,
   "id": "0b9c984b",
   "metadata": {},
   "outputs": [
    {
     "ename": "TypeError",
     "evalue": "InMemoryDocstore.__init__() got an unexpected keyword argument 'documents'",
     "output_type": "error",
     "traceback": [
      "\u001b[0;31m---------------------------------------------------------------------------\u001b[0m",
      "\u001b[0;31mTypeError\u001b[0m                                 Traceback (most recent call last)",
      "Cell \u001b[0;32mIn[7], line 17\u001b[0m\n\u001b[1;32m      8\u001b[0m \u001b[38;5;66;03m# Create an in-memory document store\u001b[39;00m\n\u001b[1;32m      9\u001b[0m documents \u001b[38;5;241m=\u001b[39m [\n\u001b[1;32m     10\u001b[0m     Document(page_content\u001b[38;5;241m=\u001b[39m\u001b[38;5;124m\"\u001b[39m\u001b[38;5;124mArtificial Intelligence and Machine Learning are transforming the tech industry.\u001b[39m\u001b[38;5;124m\"\u001b[39m, metadata\u001b[38;5;241m=\u001b[39m{\u001b[38;5;124m\"\u001b[39m\u001b[38;5;124mtopic\u001b[39m\u001b[38;5;124m\"\u001b[39m: \u001b[38;5;124m\"\u001b[39m\u001b[38;5;124mAI and ML\u001b[39m\u001b[38;5;124m\"\u001b[39m}),\n\u001b[1;32m     11\u001b[0m     Document(page_content\u001b[38;5;241m=\u001b[39m\u001b[38;5;124m\"\u001b[39m\u001b[38;5;124mQuantum Computing is a new paradigm that could revolutionize computing.\u001b[39m\u001b[38;5;124m\"\u001b[39m, metadata\u001b[38;5;241m=\u001b[39m{\u001b[38;5;124m\"\u001b[39m\u001b[38;5;124mtopic\u001b[39m\u001b[38;5;124m\"\u001b[39m: \u001b[38;5;124m\"\u001b[39m\u001b[38;5;124mQuantum Computing\u001b[39m\u001b[38;5;124m\"\u001b[39m}),\n\u001b[0;32m   (...)\u001b[0m\n\u001b[1;32m     14\u001b[0m     Document(page_content\u001b[38;5;241m=\u001b[39m\u001b[38;5;124m\"\u001b[39m\u001b[38;5;124mVirtual Reality and Augmented Reality are creating immersive experiences.\u001b[39m\u001b[38;5;124m\"\u001b[39m, metadata\u001b[38;5;241m=\u001b[39m{\u001b[38;5;124m\"\u001b[39m\u001b[38;5;124mtopic\u001b[39m\u001b[38;5;124m\"\u001b[39m: \u001b[38;5;124m\"\u001b[39m\u001b[38;5;124mVR and AR\u001b[39m\u001b[38;5;124m\"\u001b[39m})\n\u001b[1;32m     15\u001b[0m ]\n\u001b[0;32m---> 17\u001b[0m docstore \u001b[38;5;241m=\u001b[39m \u001b[43mInMemoryDocstore\u001b[49m\u001b[43m(\u001b[49m\u001b[43mdocuments\u001b[49m\u001b[38;5;241;43m=\u001b[39;49m\u001b[43m{\u001b[49m\u001b[43mdoc\u001b[49m\u001b[38;5;241;43m.\u001b[39;49m\u001b[43mmetadata\u001b[49m\u001b[43m[\u001b[49m\u001b[38;5;124;43m'\u001b[39;49m\u001b[38;5;124;43mtopic\u001b[39;49m\u001b[38;5;124;43m'\u001b[39;49m\u001b[43m]\u001b[49m\u001b[43m:\u001b[49m\u001b[43m \u001b[49m\u001b[43mdoc\u001b[49m\u001b[43m \u001b[49m\u001b[38;5;28;43;01mfor\u001b[39;49;00m\u001b[43m \u001b[49m\u001b[43mdoc\u001b[49m\u001b[43m \u001b[49m\u001b[38;5;129;43;01min\u001b[39;49;00m\u001b[43m \u001b[49m\u001b[43mdocuments\u001b[49m\u001b[43m}\u001b[49m\u001b[43m)\u001b[49m\n\u001b[1;32m     18\u001b[0m index_to_docstore_id \u001b[38;5;241m=\u001b[39m {i: doc\u001b[38;5;241m.\u001b[39mmetadata[\u001b[38;5;124m'\u001b[39m\u001b[38;5;124mtopic\u001b[39m\u001b[38;5;124m'\u001b[39m] \u001b[38;5;28;01mfor\u001b[39;00m i, doc \u001b[38;5;129;01min\u001b[39;00m \u001b[38;5;28menumerate\u001b[39m(documents)}\n\u001b[1;32m     20\u001b[0m \u001b[38;5;66;03m# Create a LangChain FAISS vector store\u001b[39;00m\n",
      "\u001b[0;31mTypeError\u001b[0m: InMemoryDocstore.__init__() got an unexpected keyword argument 'documents'"
     ]
    }
   ],
   "source": [
    "# Initialize the Sentence Transformer model\n",
    "embedding_model = SentenceTransformerEmbeddings(model_name=\"all-MiniLM-L6-v2\")\n",
    "\n",
    "# Create a FAISS index\n",
    "d = 384  # Dimension of the embeddings (for all-MiniLM-L6-v2, it's 384)\n",
    "index = faiss.IndexFlatL2(d)  # L2 distance index\n",
    "\n",
    "# Create an in-memory document store\n",
    "documents = [\n",
    "    Document(page_content=\"Artificial Intelligence and Machine Learning are transforming the tech industry.\", metadata={\"topic\": \"AI and ML\"}),\n",
    "    Document(page_content=\"Quantum Computing is a new paradigm that could revolutionize computing.\", metadata={\"topic\": \"Quantum Computing\"}),\n",
    "    Document(page_content=\"Blockchain technology provides a secure and decentralized way to record transactions.\", metadata={\"topic\": \"Blockchain\"}),\n",
    "    Document(page_content=\"5G networks are enabling faster and more reliable internet connectivity.\", metadata={\"topic\": \"5G Networks\"}),\n",
    "    Document(page_content=\"Virtual Reality and Augmented Reality are creating immersive experiences.\", metadata={\"topic\": \"VR and AR\"})\n",
    "]\n",
    "\n",
    "docstore = InMemoryDocstore(documents={doc.metadata['topic']: doc for doc in documents})\n",
    "index_to_docstore_id = {i: doc.metadata['topic'] for i, doc in enumerate(documents)}\n",
    "\n",
    "# Create a LangChain FAISS vector store\n",
    "vector_store = FAISS(\n",
    "    index=index, \n",
    "    embedding_function=embedding_model, \n",
    "    docstore=docstore, \n",
    "    index_to_docstore_id=index_to_docstore_id\n",
    ")"
   ]
  },
  {
   "cell_type": "code",
   "execution_count": null,
   "id": "0b81178a",
   "metadata": {},
   "outputs": [],
   "source": [
    "\n",
    "# Add documents to the vector store (Embedding and Indexing)\n",
    "documents = [\n",
    "    \"Artificial Intelligence and Machine Learning are transforming the tech industry.\",\n",
    "    \"Quantum Computing is a new paradigm that could revolutionize computing.\",\n",
    "    \"Blockchain technology provides a secure and decentralized way to record transactions.\",\n",
    "    \"5G networks are enabling faster and more reliable internet connectivity.\",\n",
    "    \"Virtual Reality and Augmented Reality are creating immersive experiences.\"\n",
    "]\n",
    "metadatas = [\n",
    "    {\"topic\": \"AI and ML\"}, \n",
    "    {\"topic\": \"Quantum Computing\"}, \n",
    "    {\"topic\": \"Blockchain\"}, \n",
    "    {\"topic\": \"5G Networks\"}, \n",
    "    {\"topic\": \"VR and AR\"}\n",
    "]\n",
    "ids = [\"doc1\", \"doc2\", \"doc3\", \"doc4\", \"doc5\"]\n",
    "\n",
    "vector_store.add_texts(texts=documents, metadatas=metadatas, ids=ids)\n",
    "\n",
    "# Query the vector store\n",
    "query = \"What are the advancements in next-generation networks?\"\n",
    "results = vector_store.similarity_search(query, k=2)\n",
    "\n",
    "# Print the results\n",
    "pprint(results)"
   ]
  }
 ],
 "metadata": {
  "kernelspec": {
   "display_name": "Python 3 (ipykernel)",
   "language": "python",
   "name": "python3"
  },
  "language_info": {
   "codemirror_mode": {
    "name": "ipython",
    "version": 3
   },
   "file_extension": ".py",
   "mimetype": "text/x-python",
   "name": "python",
   "nbconvert_exporter": "python",
   "pygments_lexer": "ipython3",
   "version": "3.11.1"
  }
 },
 "nbformat": 4,
 "nbformat_minor": 5
}
