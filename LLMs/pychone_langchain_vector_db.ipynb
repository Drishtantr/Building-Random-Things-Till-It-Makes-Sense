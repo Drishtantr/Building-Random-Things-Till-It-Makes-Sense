{
 "cells": [
  {
   "cell_type": "code",
   "execution_count": null,
   "id": "5cb0fbfc",
   "metadata": {
    "scrolled": false
   },
   "outputs": [],
   "source": [
    "from langchain.embeddings import SentenceTransformerEmbeddings\n",
    "from langchain.vectorstores import Pinecone\n",
    "import pinecone\n",
    "from pprint import pprint\n",
    "\n",
    "# Initialize Pinecone\n",
    "pinecone.init(api_key='your-pinecone-api-key', environment='us-west1-gcp')\n",
    "\n",
    "# Define the Pinecone index name\n",
    "index_name = 'langchain-demo'\n",
    "\n",
    "# Create the Pinecone index if it doesn't exist\n",
    "if index_name not in pinecone.list_indexes():\n",
    "    pinecone.create_index(index_name, dimension=384, metric='cosine')\n",
    "\n",
    "# Connect to the Pinecone index\n",
    "index = pinecone.Index(index_name)"
   ]
  },
  {
   "cell_type": "code",
   "execution_count": null,
   "id": "03814ece",
   "metadata": {},
   "outputs": [],
   "source": [
    "# Initialize the Sentence Transformer model\n",
    "embedding_model = SentenceTransformerEmbeddings(model_name=\"all-MiniLM-L6-v2\")\n",
    "\n",
    "# Create a LangChain Pinecone vector store\n",
    "vector_store = Pinecone(index=index, embedding_model=embedding_model)\n",
    "\n",
    "# Add documents to the vector store (Embedding and Indexing)\n",
    "documents = [\n",
    "    \"This is a document about food\",\n",
    "    \"This is a document about animal's food\",\n",
    "    \"This is a document about cats and dogs\"\n",
    "]\n",
    "metadatas = [{\"topic\": \"food\"}, {\"topic\": \"animal\"}, {\"topic\": \"animal\"}]\n",
    "ids = [\"doc1\", \"doc2\", \"doc3\"]\n",
    "\n",
    "vector_store.add_texts(texts=documents, metadatas=metadatas, ids=ids)\n",
    "\n",
    "# Query the vector store\n",
    "query = \"This is a query asking about pizza\"\n",
    "results = vector_store.similarity_search(query, k=2)\n",
    "\n",
    "# Print the results\n",
    "pprint(results)\n"
   ]
  }
 ],
 "metadata": {
  "kernelspec": {
   "display_name": "Python 3 (ipykernel)",
   "language": "python",
   "name": "python3"
  },
  "language_info": {
   "codemirror_mode": {
    "name": "ipython",
    "version": 3
   },
   "file_extension": ".py",
   "mimetype": "text/x-python",
   "name": "python",
   "nbconvert_exporter": "python",
   "pygments_lexer": "ipython3",
   "version": "3.11.1"
  }
 },
 "nbformat": 4,
 "nbformat_minor": 5
}
