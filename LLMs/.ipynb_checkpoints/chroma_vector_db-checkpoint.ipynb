{
 "cells": [
  {
   "cell_type": "code",
   "execution_count": 1,
   "id": "0f51acfa",
   "metadata": {},
   "outputs": [],
   "source": [
    "import chromadb\n",
    "from pprint import pprint\n",
    "\n",
    "# Create document collection. Collections are where we store our embeddings,\n",
    "#  documents, and any additional metadata.\n",
    "\n",
    "client = chromadb.Client()\n",
    "\n",
    "# collection = client.create_collection(\"all-my-documents\")\n",
    "\n",
    "collection = client.create_collection(\n",
    "      name=\"all-my-documents\",\n",
    "      metadata={\"hnsw:space\": \"cosine\"} # metadata is optional\n",
    "  )"
   ]
  },
  {
   "cell_type": "code",
   "execution_count": 2,
   "id": "8008bae5",
   "metadata": {},
   "outputs": [],
   "source": [
    "# we can store our text, and handle tokenization, embedding, and indexing automatically! \n",
    "# Chroma will also store the documents themselves. If the documents are too large to embed \n",
    "# using the chosen embedding function, an exception will be raised.\n",
    "\n",
    "\n",
    "# By default, Chroma uses the Sentence Transformers all-MiniLM-L6-v2 model to create embeddings.\n",
    "collection.add(\n",
    "    documents=[\n",
    "        \"This is a document about food\",\n",
    "        \"This is a document about animal's food\",\n",
    "        \"This is a document about cats and dogs\",\n",
    "    ],\n",
    "    metadatas=[{\"topic\": \"food\"}, {\"topic\": \"animal\"}, {\"topic\": \"animal\"}],\n",
    "    ids=[\"doc1\", \"docs2\", \"doc3\"],\n",
    ")"
   ]
  },
  {
   "cell_type": "code",
   "execution_count": 3,
   "id": "5c552bb6",
   "metadata": {},
   "outputs": [],
   "source": [
    "results = collection.query(\n",
    "    query_texts=[\"This is a query asking about pizza\"],\n",
    "    n_results=2,\n",
    ")"
   ]
  }
 ],
 "metadata": {
  "kernelspec": {
   "display_name": "Python 3 (ipykernel)",
   "language": "python",
   "name": "python3"
  },
  "language_info": {
   "codemirror_mode": {
    "name": "ipython",
    "version": 3
   },
   "file_extension": ".py",
   "mimetype": "text/x-python",
   "name": "python",
   "nbconvert_exporter": "python",
   "pygments_lexer": "ipython3",
   "version": "3.11.1"
  }
 },
 "nbformat": 4,
 "nbformat_minor": 5
}
